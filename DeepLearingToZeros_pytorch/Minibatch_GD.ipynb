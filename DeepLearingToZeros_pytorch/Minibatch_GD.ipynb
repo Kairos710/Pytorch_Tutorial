{
 "cells": [
  {
   "cell_type": "code",
   "execution_count": 1,
   "metadata": {},
   "outputs": [],
   "source": [
    "import torch\n",
    "from torch.utils.data import Dataset\n",
    "import numpy as np\n",
    "\n",
    "class CustomDataset():\n",
    "    def __init__(self):\n",
    "        self.x_data = np.random.rand(5,3)\n",
    "        self.y_data = np.random.randn(5,1)\n",
    "    \n",
    "    def __len__(self):\n",
    "        return len(self.x_data)\n",
    "    \n",
    "    def __getitem__(self, idx):\n",
    "        x = torch.FloatTensor(self.x_data[idx])\n",
    "        y = torch.FloatTensor(self.y_data[idx])\n",
    "        \n",
    "        return x, y\n",
    "    \n",
    "dataset = CustomDataset()"
   ]
  },
  {
   "cell_type": "code",
   "execution_count": 3,
   "metadata": {},
   "outputs": [],
   "source": [
    "import torch.nn as nn\n",
    "import torch.nn.functional as F\n",
    "\n",
    "class MultivariateLinearRegressionModel(nn.Module):\n",
    "    def __init__(self):\n",
    "        super().__init__()\n",
    "        self.linear = nn.Linear(3,1)\n",
    "        \n",
    "    def forward(self, x):\n",
    "        return self.linear(x)\n",
    "\n",
    "model = MultivariateLinearRegressionModel()"
   ]
  },
  {
   "cell_type": "code",
   "execution_count": 5,
   "metadata": {},
   "outputs": [
    {
     "name": "stdout",
     "output_type": "stream",
     "text": [
      "Epoch    0/10 Batch 1/3 Loss: 0.195074\n",
      "Epoch    0/10 Batch 2/3 Loss: 1.900477\n",
      "Epoch    0/10 Batch 3/3 Loss: 0.335825\n",
      "Epoch    1/10 Batch 1/3 Loss: 1.977474\n",
      "Epoch    1/10 Batch 2/3 Loss: 0.256365\n",
      "Epoch    1/10 Batch 3/3 Loss: 0.059248\n",
      "Epoch    2/10 Batch 1/3 Loss: 1.900477\n",
      "Epoch    2/10 Batch 2/3 Loss: 0.195074\n",
      "Epoch    2/10 Batch 3/3 Loss: 0.335825\n",
      "Epoch    3/10 Batch 1/3 Loss: 0.256365\n",
      "Epoch    3/10 Batch 2/3 Loss: 0.136245\n",
      "Epoch    3/10 Batch 3/3 Loss: 3.741705\n",
      "Epoch    4/10 Batch 1/3 Loss: 0.136245\n",
      "Epoch    4/10 Batch 2/3 Loss: 2.038765\n",
      "Epoch    4/10 Batch 3/3 Loss: 0.176905\n",
      "Epoch    5/10 Batch 1/3 Loss: 2.038765\n",
      "Epoch    5/10 Batch 2/3 Loss: 0.118077\n",
      "Epoch    5/10 Batch 3/3 Loss: 0.213242\n",
      "Epoch    6/10 Batch 1/3 Loss: 0.197536\n",
      "Epoch    6/10 Batch 2/3 Loss: 1.977474\n",
      "Epoch    6/10 Batch 3/3 Loss: 0.176905\n",
      "Epoch    7/10 Batch 1/3 Loss: 0.195074\n",
      "Epoch    7/10 Batch 2/3 Loss: 2.038765\n",
      "Epoch    7/10 Batch 3/3 Loss: 0.059248\n",
      "Epoch    8/10 Batch 1/3 Loss: 0.195074\n",
      "Epoch    8/10 Batch 2/3 Loss: 1.900477\n",
      "Epoch    8/10 Batch 3/3 Loss: 0.335825\n",
      "Epoch    9/10 Batch 1/3 Loss: 0.274534\n",
      "Epoch    9/10 Batch 2/3 Loss: 1.900477\n",
      "Epoch    9/10 Batch 3/3 Loss: 0.176905\n",
      "Epoch   10/10 Batch 1/3 Loss: 1.977474\n",
      "Epoch   10/10 Batch 2/3 Loss: 0.118077\n",
      "Epoch   10/10 Batch 3/3 Loss: 0.335825\n"
     ]
    }
   ],
   "source": [
    "from torch.utils.data import DataLoader\n",
    "from torch import optim\n",
    "\n",
    "\n",
    "dataloader = DataLoader(\n",
    "    dataset,\n",
    "    batch_size=2,\n",
    "    shuffle=True, # 항상 true 권장\n",
    ")\n",
    "\n",
    "W = torch.zeros(1, requires_grad=True)\n",
    "b = torch.zeros(1, requires_grad=True)\n",
    "\n",
    "optimizer = optim.SGD([W,b], lr=1e-5)\n",
    "\n",
    "epochs = 10\n",
    "\n",
    "for epoch in range(epochs+1):\n",
    "    for batch_idx, samples in enumerate(dataloader): # minibatch를 위한 for loop\n",
    "        X_train, y_train = samples\n",
    "        \n",
    "        pred = model(X_train)\n",
    "\n",
    "        loss = F.mse_loss(pred, y_train)\n",
    "        \n",
    "        optimizer.zero_grad()\n",
    "        loss.backward()\n",
    "        optimizer.step()\n",
    "        \n",
    "        print('Epoch {:4d}/{} Batch {}/{} Loss: {:.6f}'.format(epoch, epochs, batch_idx+1, len(dataloader), loss.item()))\n"
   ]
  },
  {
   "cell_type": "code",
   "execution_count": null,
   "metadata": {},
   "outputs": [],
   "source": []
  }
 ],
 "metadata": {
  "kernelspec": {
   "display_name": "pytorch",
   "language": "python",
   "name": "python3"
  },
  "language_info": {
   "codemirror_mode": {
    "name": "ipython",
    "version": 3
   },
   "file_extension": ".py",
   "mimetype": "text/x-python",
   "name": "python",
   "nbconvert_exporter": "python",
   "pygments_lexer": "ipython3",
   "version": "3.8.16"
  },
  "orig_nbformat": 4,
  "vscode": {
   "interpreter": {
    "hash": "09984021b85b4fc73470db0c076536dd43f155500b22647bf3eda11468cba887"
   }
  }
 },
 "nbformat": 4,
 "nbformat_minor": 2
}
